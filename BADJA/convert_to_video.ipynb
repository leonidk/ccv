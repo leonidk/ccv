{
 "cells": [
  {
   "cell_type": "code",
   "execution_count": null,
   "metadata": {},
   "outputs": [],
   "source": [
    "import os\n",
    "import fnmatch\n",
    "import glob\n",
    "import subprocess\n",
    "import sys"
   ]
  },
  {
   "cell_type": "code",
   "execution_count": null,
   "metadata": {},
   "outputs": [],
   "source": [
    "vid_fold = 'DAVIS/Videos'\n",
    "if not os.path.exists(vid_fold):\n",
    "    os.mkdir(vid_fold)"
   ]
  },
  {
   "cell_type": "code",
   "execution_count": null,
   "metadata": {},
   "outputs": [],
   "source": [
    "target_folds = glob.glob('DAVIS/JPEGImages/Full-Resolution/*')\n",
    "for fold in target_folds:\n",
    "    name = fold.split('/')[-1]\n",
    "    target_name = os.path.join(vid_fold,name)\n",
    "    cmd = \"ffmpeg -framerate 30 -pattern_type glob -i '{}/*.jpg' -c:v libx264 -pix_fmt yuv420p {}.mp4\".format(fold,target_name)\n",
    "    os.system(cmd)"
   ]
  },
  {
   "cell_type": "code",
   "execution_count": null,
   "metadata": {},
   "outputs": [],
   "source": [
    "target_folds = glob.glob('extra_videos/*')\n",
    "for fold in target_folds:\n",
    "    name = fold.split('/')[-1]\n",
    "    target_name = os.path.join(vid_fold,name)\n",
    "    cmd = \"ffmpeg -framerate 30 -pattern_type glob -i '{}/rgb/*.png' -c:v libx264 -pix_fmt yuv420p {}.mp4\".format(fold,target_name)\n",
    "    os.system(cmd)"
   ]
  },
  {
   "cell_type": "code",
   "execution_count": null,
   "metadata": {},
   "outputs": [],
   "source": []
  }
 ],
 "metadata": {
  "language_info": {
   "name": "python"
  }
 },
 "nbformat": 4,
 "nbformat_minor": 5
}
