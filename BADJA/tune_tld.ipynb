{
 "cells": [
  {
   "cell_type": "code",
   "execution_count": null,
   "metadata": {},
   "outputs": [],
   "source": [
    "import os\n",
    "import subprocess\n",
    "import numpy as np\n"
   ]
  },
  {
   "cell_type": "code",
   "execution_count": null,
   "metadata": {},
   "outputs": [],
   "source": [
    "binf = '../ccv/bin/tld'\n",
    "\n",
    "def_p = {\n",
    "'init_radius': 12,\n",
    "'win_radius' : 7,\n",
    "'level' : 5,\n",
    "'min_forward_backward_error' : 100,\n",
    "'min_eigen' : 0.025,\n",
    "'min_win' : 20,\n",
    "'interval' : 3,\n",
    "'shift' : 0.1,\n",
    "'top_n' : 100,\n",
    "'include_overlap' : 0.7,\n",
    "'exclude_overlap' : 0.2,\n",
    "'structs' : 40,\n",
    "'features' : 18,\n",
    "'validate_set' : 0.5,\n",
    "'nnc_same' : 0.95,\n",
    "'nnc_thres' : 0.65,\n",
    "'nnc_verify' : 0.7,\n",
    "'nnc_beyond' : 0.8,\n",
    "'nnc_collect' : 0.5,\n",
    "'bad_patches' : 100,\n",
    "'new_deform' : 20,\n",
    "'track_deform' : 10,\n",
    "'new_deform_angle' : 20,\n",
    "'track_deform_angle' : 10,\n",
    "'new_deform_scale' : 0.02,\n",
    "'track_deform_scale' : 0.02,\n",
    "'new_deform_shift' : 0.02,\n",
    "'track_deform_shift' : 0.02,\n",
    "'tld_patch_size' : 10,\n",
    "'tld_grid_sparsity' : 10}\n",
    "new_p = {\n",
    "'init_radius': 23,\n",
    "'win_radius' : 7,\n",
    "'level' : 5,\n",
    "'min_forward_backward_error' : 124,\n",
    "'min_eigen' : 0.02,\n",
    "'min_win' : 23,\n",
    "'interval' : 4,\n",
    "'shift' : 0.07,\n",
    "'top_n' : 133,\n",
    "'include_overlap' : 0.70,\n",
    "'exclude_overlap' : 0.26,\n",
    "'structs' : 66,\n",
    "'features' : 12,\n",
    "'validate_set' : 0.41,\n",
    "'nnc_same' : 0.71,\n",
    "'nnc_thres' : 0.92,\n",
    "'nnc_verify' : 0.76,\n",
    "'nnc_beyond' : 0.74,\n",
    "'nnc_collect' : 0.54,\n",
    "'bad_patches' : 73,\n",
    "'new_deform' : 15,\n",
    "'track_deform' : 13,\n",
    "'new_deform_angle' : 21,\n",
    "'track_deform_angle' : 4,\n",
    "'new_deform_scale' : 0.04,\n",
    "'track_deform_scale' : 0.02,\n",
    "'new_deform_shift' : 0.03,\n",
    "'track_deform_shift' : 0.02,\n",
    "'tld_patch_size' : 10,\n",
    "'tld_grid_sparsity' : 11}\n",
    "p_order = list(def_p.keys())\n",
    "x0 = np.log([new_p[k] for k in p_order]) # 17370.702460478657"
   ]
  },
  {
   "cell_type": "code",
   "execution_count": null,
   "metadata": {},
   "outputs": [],
   "source": [
    "def eval_points(x,name,pt):\n",
    "    init_r = int(np.round(np.exp(x[0])))\n",
    "    extra_s = ['{:.3f}'.format(_) for _ in np.exp(x[1:])]\n",
    "    cmd_str = [str(_) for _ in [binf,'DAVIS/Videos/{}.mp4'.format(name),pt[1]-init_r,pt[0]-init_r,1+init_r*2,1+init_r*2]] + extra_s\n",
    "    outp = subprocess.check_output(cmd_str)\n",
    "    idx_to_loc = {}\n",
    "    for row in outp.decode().split('\\n'):\n",
    "        if len(row) == 0:\n",
    "            continue\n",
    "        if '---' in row:\n",
    "            pass\n",
    "        else:\n",
    "            loc = np.array([int(_) for _ in row.split()[1:3]]) + (np.array([int(_) for _ in row.split()[3:5]])-1)/2\n",
    "        idx_to_loc[int(row[:5])] = np.array([loc[1],loc[0]])\n",
    "    return idx_to_loc"
   ]
  },
  {
   "cell_type": "code",
   "execution_count": null,
   "metadata": {},
   "outputs": [],
   "source": [
    "import json\n",
    "import multiprocessing\n",
    "cpu_count = multiprocessing.cpu_count()//2\n",
    "pool = multiprocessing.Pool(cpu_count)"
   ]
  },
  {
   "cell_type": "code",
   "execution_count": null,
   "metadata": {},
   "outputs": [],
   "source": [
    "def eval_cfg(x):\n",
    "    try:\n",
    "        errs = 0 \n",
    "\n",
    "        for ef in os.listdir('joint_annotations/'):\n",
    "            base,ext = os.path.splitext(ef)\n",
    "            jf = os.path.join('joint_annotations',ef)\n",
    "            with open(jf,'rt') as fp:\n",
    "                data = json.load(fp)\n",
    "            if '00000' not in data[0]['image_path'] :\n",
    "                continue\n",
    "            fold = data[0]['image_path'].split('/')[-2]\n",
    "            if 'horsejump-high' not in fold:\n",
    "                continue\n",
    "\n",
    "            run_points = []\n",
    "            for ji,j in enumerate(data[0]['joints']):\n",
    "                if np.sum(j) == 0:\n",
    "                    continue\n",
    "                run_points.append([ji,j])\n",
    "                if len(run_points) >= cpu_count:\n",
    "                    break\n",
    "            pret = pool.starmap(eval_points,[(x,fold,p[1]) for p in run_points])\n",
    "            for elem in data:\n",
    "                idx = int(elem['image_path'][-9:-4])\n",
    "                for p,res in zip(run_points,pret):\n",
    "                    t_pt = elem['joints'][p[0]]\n",
    "                    errs += np.linalg.norm(res.get(idx,res[0]) - t_pt)\n",
    "        return errs\n",
    "    except KeyboardInterrupt:\n",
    "        raise\n",
    "    except:\n",
    "        return 1e12\n",
    "eval_cfg(x0)"
   ]
  },
  {
   "cell_type": "code",
   "execution_count": null,
   "metadata": {},
   "outputs": [],
   "source": [
    "import cma\n",
    "es = cma.CMAEvolutionStrategy(x0,0.1)\n",
    "es.optimize(eval_cfg)"
   ]
  },
  {
   "cell_type": "code",
   "execution_count": null,
   "metadata": {},
   "outputs": [],
   "source": [
    "es.best.x"
   ]
  },
  {
   "cell_type": "code",
   "execution_count": null,
   "metadata": {},
   "outputs": [],
   "source": [
    "es.mean"
   ]
  },
  {
   "cell_type": "code",
   "execution_count": null,
   "metadata": {},
   "outputs": [],
   "source": [
    "' '.join(['{:.3f}'.format(_) for _ in np.exp(es.best.x)])"
   ]
  }
 ],
 "metadata": {
  "language_info": {
   "name": "python"
  }
 },
 "nbformat": 4,
 "nbformat_minor": 5
}
